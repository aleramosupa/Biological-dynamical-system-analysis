{
 "cells": [
  {
   "cell_type": "markdown",
   "metadata": {},
   "source": [
    "### Exercise 1: USA population between 1980 and 2000\n"
   ]
  },
  {
   "cell_type": "markdown",
   "metadata": {},
   "source": [
    "The variation of population of USA in time is defined as:\n",
    "\n",
    "\n",
    "$$\\quad \n",
    "\\frac{dP}{dt} = \\frac {t}{t^2+1}*P, \\quad \\quad P(1980) = 229.8 (millions)\n",
    "$$\n",
    "\n",
    "\n",
    "Solving as a separable ODE we get:\n",
    "$$\\quad\n",
    "\\int \\frac{dP}{P}dp = \\int \\frac{t}{t^2+1}dt +C\n",
    "$$\n",
    "\n",
    "\n",
    "Finally, taking logarithms:\n",
    "$$\\quad\n",
    "P=C\\sqrt{t^2+1}\n",
    "$$"
   ]
  },
  {
   "cell_type": "code",
   "execution_count": 6,
   "metadata": {},
   "outputs": [
    {
     "data": {
      "text/plain": [
       "<Figure size 640x480 with 1 Axes>"
      ]
     },
     "metadata": {},
     "output_type": "display_data"
    }
   ],
   "source": [
    "import numpy as np\n",
    "from scipy.integrate import odeint\n",
    "import matplotlib.pyplot as plt\n",
    "\n",
    "\n",
    "def model(P,t):\n",
    "    i=t/(t**2+1)\n",
    "    P_1980=229.8\n",
    "    dPdt = i*P_1980\n",
    "    return dPdt\n",
    "P_1980=229.8\n",
    "t = np.linspace(1980,2000,100)\n",
    "y = odeint(model,P_1980,t)\n",
    "y = np.array(y).flatten()\n",
    "\n",
    "# plot results\n",
    "plt.plot(t,y)\n",
    "plt.xlabel('time')\n",
    "plt.ylabel('Population')\n",
    "plt.show()"
   ]
  },
  {
   "cell_type": "code",
   "execution_count": 7,
   "metadata": {},
   "outputs": [],
   "source": [
    "def Population(t):\n",
    "    e = np.sqrt((t-1980)**2 + 1)\n",
    "    return[P_1980*e]\n",
    "   "
   ]
  },
  {
   "cell_type": "code",
   "execution_count": 8,
   "metadata": {},
   "outputs": [
    {
     "data": {
      "text/plain": [
       "[229.8]"
      ]
     },
     "execution_count": 8,
     "metadata": {},
     "output_type": "execute_result"
    }
   ],
   "source": [
    "Population(1980)"
   ]
  },
  {
   "cell_type": "markdown",
   "metadata": {},
   "source": [
    "### Exercise 2"
   ]
  },
  {
   "cell_type": "markdown",
   "metadata": {},
   "source": [
    "$$\\quad\n",
    "2x(y-1)dx + (x^2-1)dy=0\n",
    "$$\n",
    "\n",
    "\n",
    "$$\\quad\n",
    "-(\\frac {2x(y-1)}{x²-1})=\\frac {dy}{dx}\n",
    "$$"
   ]
  },
  {
   "cell_type": "markdown",
   "metadata": {},
   "source": [
    "Solving as a separable ODE:\n",
    "$$\\quad\n",
    "\\ln |x^2-1| + \\ln |y-1|=C\n",
    "$$\n",
    "Then:\n",
    "$$\\quad\n",
    "(x^2-1)*(y-1)=\\pm C\n",
    "$$\n",
    "Finally the solution:\n",
    "$$\\quad\n",
    "y= \\frac {\\pm C +x²-1}{x²-1}\n",
    "$$"
   ]
  },
  {
   "cell_type": "code",
   "execution_count": 6,
   "metadata": {},
   "outputs": [
    {
     "data": {
      "image/png": "[encoded data removed]",
      "text/plain": [
       "<Figure size 432x288 with 1 Axes>"
      ]
     },
     "metadata": {
      "needs_background": "light"
     },
     "output_type": "display_data"
    }
   ],
   "source": [
    "import numpy as np\n",
    "from scipy.integrate import odeint\n",
    "import matplotlib.pyplot as plt\n",
    "\n",
    "\n",
    "def model(x,y):\n",
    "    u= 2*x*(y-1)\n",
    "    w=(x**2)-1\n",
    "    dydx = -(u/w)\n",
    "    return dydx\n",
    "y0 = 10\n",
    "t = np.linspace(0,20,100)\n",
    "y = odeint(model,y0,t)\n",
    "y = np.array(y).flatten()\n",
    "\n",
    "# plot results\n",
    "plt.plot(t,y)\n",
    "plt.xlabel('x')\n",
    "plt.ylabel('y')\n",
    "plt.show()"
   ]
  },
  {
   "cell_type": "markdown",
   "metadata": {},
   "source": [
    "### Exercise 3"
   ]
  },
  {
   "cell_type": "markdown",
   "metadata": {},
   "source": [
    "$$\\quad\n",
    "(1+e^y)dx - \\begin{equation} e^{2y} \\end{equation}*sin³(x))dy = 0\n",
    "$$\n",
    "\n",
    "Equals to:\n",
    "$$\\quad\n",
    "\\frac{dy}{dx}=\\frac{1+e^y}{sin(x)^3 * \\begin{equation} e^{2y} \\end{equation}}\n",
    "$$\n"
   ]
  },
  {
   "cell_type": "code",
   "execution_count": 10,
   "metadata": {},
   "outputs": [
    {
     "name": "stderr",
     "output_type": "stream",
     "text": [
      "C:\\Users\\alera\\Anaconda3\\lib\\site-packages\\ipykernel_launcher.py:4: RuntimeWarning: divide by zero encountered in true_divide\n",
      "  after removing the cwd from sys.path.\n"
     ]
    },
    {
     "data": {
      "image/png": "[encoded data removed]",
      "text/plain": [
       "<Figure size 432x288 with 1 Axes>"
      ]
     },
     "metadata": {
      "needs_background": "light"
     },
     "output_type": "display_data"
    }
   ],
   "source": [
    "def model (y,x):\n",
    "    o = 1+ np.exp(y)\n",
    "    p = np.sin(x)**3 * np.exp(2*y)\n",
    "    dydx = o/p\n",
    "    return dydx\n",
    "y0 = 10\n",
    "\n",
    "t = np.linspace(0,20,100)\n",
    "y = odeint(model,y0,t)\n",
    "y = np.array(y).flatten()\n",
    "plt.plot(t,y)\n",
    "plt.xlabel('x')\n",
    "plt.ylabel('y')\n",
    "plt.show()\n"
   ]
  },
  {
   "cell_type": "code",
   "execution_count": null,
   "metadata": {},
   "outputs": [],
   "source": []
  }
 ],
 "metadata": {
  "kernelspec": {
   "display_name": "Python 3",
   "language": "python",
   "name": "python3"
  },
  "language_info": {
   "codemirror_mode": {
    "name": "ipython",
    "version": 3
   },
   "file_extension": ".py",
   "mimetype": "text/x-python",
   "name": "python",
   "nbconvert_exporter": "python",
   "pygments_lexer": "ipython3",
   "version": "3.7.3"
  }
 },
 "nbformat": 4,
 "nbformat_minor": 2
}
