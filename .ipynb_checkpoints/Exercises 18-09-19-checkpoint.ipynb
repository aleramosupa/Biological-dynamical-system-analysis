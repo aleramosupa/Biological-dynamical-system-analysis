{
 "cells": [
  {
   "cell_type": "markdown",
   "metadata": {},
   "source": [
    "### Exercise 1: USA population between 1980 and 2000\n"
   ]
  },
  {
   "cell_type": "markdown",
   "metadata": {},
   "source": [
    "The variation of population of USA in time is defined as:\n",
    "$$\\quad \n",
    "\\frac{dP}{dt} = \\frac {t}{t^2+1}*P, \\quad \\quad P(1980) = 229.8.\n",
    "$$\n",
    "Solving as a separable ODE we get:\n",
    "$$\\quad\n",
    "\\int \\frac{dP}{P}dp = \\int \\frac{t}{t^2+1}dt +C\n",
    "$$\n",
    "Finally, taking logarithms:\n",
    "$$\\quad\n",
    "P=C\\sqrt{t^2+1}\n",
    "$$"
   ]
  },
  {
   "cell_type": "code",
   "execution_count": 14,
   "metadata": {},
   "outputs": [],
   "source": [
    "import numpy as np\n",
    "P_1980 = 229.8\n",
    "def Population(t):\n",
    "    return[P_1980*(np.sqrt((t-1980)^2+1))]\n",
    "   "
   ]
  },
  {
   "cell_type": "code",
   "execution_count": 18,
   "metadata": {},
   "outputs": [
    {
     "data": {
      "text/plain": [
       "[1.4142135623730951]"
      ]
     },
     "execution_count": 18,
     "metadata": {},
     "output_type": "execute_result"
    }
   ],
   "source": [
    "Population(1980)"
   ]
  },
  {
   "cell_type": "code",
   "execution_count": null,
   "metadata": {},
   "outputs": [],
   "source": []
  }
 ],
 "metadata": {
  "kernelspec": {
   "display_name": "Python 3",
   "language": "python",
   "name": "python3"
  },
  "language_info": {
   "codemirror_mode": {
    "name": "ipython",
    "version": 3
   },
   "file_extension": ".py",
   "mimetype": "text/x-python",
   "name": "python",
   "nbconvert_exporter": "python",
   "pygments_lexer": "ipython3",
   "version": "3.7.3"
  }
 },
 "nbformat": 4,
 "nbformat_minor": 2
}
