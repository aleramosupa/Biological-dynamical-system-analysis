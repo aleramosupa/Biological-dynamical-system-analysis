{
 "cells": [
  {
   "cell_type": "markdown",
   "metadata": {},
   "source": [
    "### Exercise 1: USA population between 1980 and 2000\n"
   ]
  },
  {
   "cell_type": "markdown",
   "metadata": {},
   "source": [
    "The variation of population of USA in time is defined as:\n",
    "$$\\quad \n",
    "\\frac{dP}{dt} = \\frac {t}{t^2+1}*P, \\quad \\quad P(1980) = 229.8 (millions)\n",
    "$$\n",
    "Solving as a separable ODE we get:\n",
    "$$\\quad\n",
    "\\int \\frac{dP}{P}dp = \\int \\frac{t}{t^2+1}dt +C\n",
    "$$\n",
    "Finally, taking logarithms:\n",
    "$$\\quad\n",
    "P=C\\sqrt{t^2+1}\n",
    "$$"
   ]
  },
  {
   "cell_type": "code",
   "execution_count": 39,
   "metadata": {},
   "outputs": [],
   "source": [
    "import numpy as np\n",
    "P_1980 = 229.8\n"
   ]
  },
  {
   "cell_type": "code",
   "execution_count": 40,
   "metadata": {},
   "outputs": [],
   "source": [
    "def Population(t):\n",
    "    return[P_1980*np.sqrt((t-1980)^2+1)]\n",
    "   "
   ]
  },
  {
   "cell_type": "code",
   "execution_count": 41,
   "metadata": {},
   "outputs": [
    {
     "data": {
      "text/plain": [
       "[1102.0820840572628]"
      ]
     },
     "execution_count": 41,
     "metadata": {},
     "output_type": "execute_result"
    }
   ],
   "source": [
    "Population(2000)"
   ]
  },
  {
   "cell_type": "markdown",
   "metadata": {},
   "source": [
    "### Exercise 2"
   ]
  },
  {
   "cell_type": "markdown",
   "metadata": {},
   "source": [
    "$$\\quad\n",
    "2x(y-1)dx + (x^2-1)dy=0\n",
    "$$"
   ]
  },
  {
   "cell_type": "markdown",
   "metadata": {},
   "source": [
    "Solving as a separable ODE:\n",
    "$$\\quad\n",
    "\\ln |x^2-1| + \\ln |y-1|=C\n",
    "$$\n",
    "Finally:\n",
    "$$\\quad\n",
    "(x^2-1)*(y-1)=\\pm C\n",
    "$$"
   ]
  },
  {
   "cell_type": "markdown",
   "metadata": {},
   "source": []
  }
 ],
 "metadata": {
  "kernelspec": {
   "display_name": "Python 3",
   "language": "python",
   "name": "python3"
  },
  "language_info": {
   "codemirror_mode": {
    "name": "ipython",
    "version": 3
   },
   "file_extension": ".py",
   "mimetype": "text/x-python",
   "name": "python",
   "nbconvert_exporter": "python",
   "pygments_lexer": "ipython3",
   "version": "3.7.3"
  }
 },
 "nbformat": 4,
 "nbformat_minor": 2
}
